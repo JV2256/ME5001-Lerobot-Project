{
 "cells": [
  {
   "cell_type": "code",
   "execution_count": 10,
   "id": "79effe62-7fc4-4ed3-bcf3-f3952732ac05",
   "metadata": {},
   "outputs": [
    {
     "name": "stdout",
     "output_type": "stream",
     "text": [
      "当前工作目录: /home/wjw/lerobot\n"
     ]
    }
   ],
   "source": [
    "# Cell 1: 环境设置 & 路径切换\n",
    "import sys\n",
    "import os\n",
    "\n",
    "project_root = \"/home/wjw/lerobot\"\n",
    "sys.path.insert(0, project_root)\n",
    "os.chdir(project_root)\n",
    "\n",
    "print(\"当前工作目录:\", os.getcwd())\n"
   ]
  },
  {
   "cell_type": "code",
   "execution_count": 63,
   "id": "f944110f-9215-4b89-b510-0722f9adc58c",
   "metadata": {
    "scrolled": true
   },
   "outputs": [
    {
     "name": "stdout",
     "output_type": "stream",
     "text": [
      "当前可用的 /dev/ttyACM 端口:\n",
      "/dev/ttyACM0  /dev/ttyACM1\n",
      "\n",
      "查看 /dev/serial/by-id/ 绑定:\n",
      "总计 0\n",
      "lrwxrwxrwx 1 root root 13 Mar 19 19:44 usb-1a86_USB_Single_Serial_58FA095568-if00 -> ../../ttyACM1\n",
      "lrwxrwxrwx 1 root root 13 Mar 19 19:44 usb-1a86_USB_Single_Serial_58FA096602-if00 -> ../../ttyACM0\n"
     ]
    },
    {
     "name": "stdin",
     "output_type": "stream",
     "text": [
      "请确认上面输出是否与 configs.py 中配置的端口匹配；若不匹配，请手动更新后再按 Enter 继续... \n"
     ]
    },
    {
     "data": {
      "text/plain": [
       "''"
      ]
     },
     "execution_count": 63,
     "metadata": {},
     "output_type": "execute_result"
    }
   ],
   "source": [
    "# Cell 2: 检查 /dev/ttyACM* 端口\n",
    "print(\"当前可用的 /dev/ttyACM 端口:\")\n",
    "!ls /dev/ttyACM*\n",
    "\n",
    "print(\"\\n查看 /dev/serial/by-id/ 绑定:\")\n",
    "!ls -l /dev/serial/by-id/\n",
    "\n",
    "input(\"请确认上面输出是否与 configs.py 中配置的端口匹配；若不匹配，请手动更新后再按 Enter 继续...\")\n",
    "\n"
   ]
  },
  {
   "cell_type": "code",
   "execution_count": 12,
   "id": "4d695f59-b94d-43c3-8881-fedb91194ff4",
   "metadata": {
    "scrolled": true
   },
   "outputs": [
    {
     "name": "stdout",
     "output_type": "stream",
     "text": [
      "已删除旧标定文件夹: /home/wjw/lerobot/.cache/calibration/koch/\n"
     ]
    }
   ],
   "source": [
    "# # Cell 3: 强制清除旧标定文件\n",
    "# import shutil\n",
    "\n",
    "# calib_path = \"/home/wjw/lerobot/.cache/calibration/koch/\"\n",
    "# shutil.rmtree(calib_path, ignore_errors=True)\n",
    "# print(\"已删除旧标定文件夹:\", calib_path)\n"
   ]
  },
  {
   "cell_type": "code",
   "execution_count": 13,
   "id": "636cb95f-9b40-4e5a-adcc-b09f298245ec",
   "metadata": {},
   "outputs": [
    {
     "name": "stdout",
     "output_type": "stream",
     "text": [
      "开始连接机器人（若无标定文件，将自动进入标定流程）...\n",
      "Connecting main follower arm.\n",
      "Connecting main leader arm.\n",
      "Missing calibration file '.cache/calibration/koch/main_follower.json'\n",
      "\n",
      "Running calibration of koch main follower...\n",
      "\n",
      "Move arm to zero position\n",
      "See: https://raw.githubusercontent.com/huggingface/lerobot/main/media/koch/follower_zero.webp\n"
     ]
    },
    {
     "name": "stdin",
     "output_type": "stream",
     "text": [
      "Press Enter to continue... \n"
     ]
    },
    {
     "name": "stdout",
     "output_type": "stream",
     "text": [
      "\n",
      "Move arm to rotated target position\n",
      "See: https://raw.githubusercontent.com/huggingface/lerobot/main/media/koch/follower_rotated.webp\n"
     ]
    },
    {
     "name": "stdin",
     "output_type": "stream",
     "text": [
      "Press Enter to continue... \n"
     ]
    },
    {
     "name": "stdout",
     "output_type": "stream",
     "text": [
      "\n",
      "Move arm to rest position\n",
      "See: https://raw.githubusercontent.com/huggingface/lerobot/main/media/koch/follower_rest.webp\n"
     ]
    },
    {
     "name": "stdin",
     "output_type": "stream",
     "text": [
      "Press Enter to continue... \n"
     ]
    },
    {
     "name": "stdout",
     "output_type": "stream",
     "text": [
      "\n",
      "Calibration is done! Saving calibration file '.cache/calibration/koch/main_follower.json'\n",
      "Missing calibration file '.cache/calibration/koch/main_leader.json'\n",
      "\n",
      "Running calibration of koch main leader...\n",
      "\n",
      "Move arm to zero position\n",
      "See: https://raw.githubusercontent.com/huggingface/lerobot/main/media/koch/leader_zero.webp\n"
     ]
    },
    {
     "name": "stdin",
     "output_type": "stream",
     "text": [
      "Press Enter to continue... \n"
     ]
    },
    {
     "name": "stdout",
     "output_type": "stream",
     "text": [
      "\n",
      "Move arm to rotated target position\n",
      "See: https://raw.githubusercontent.com/huggingface/lerobot/main/media/koch/leader_rotated.webp\n"
     ]
    },
    {
     "name": "stdin",
     "output_type": "stream",
     "text": [
      "Press Enter to continue... \n"
     ]
    },
    {
     "name": "stdout",
     "output_type": "stream",
     "text": [
      "\n",
      "Move arm to rest position\n",
      "See: https://raw.githubusercontent.com/huggingface/lerobot/main/media/koch/leader_rest.webp\n"
     ]
    },
    {
     "name": "stdin",
     "output_type": "stream",
     "text": [
      "Press Enter to continue... \n"
     ]
    },
    {
     "name": "stdout",
     "output_type": "stream",
     "text": [
      "\n",
      "Calibration is done! Saving calibration file '.cache/calibration/koch/main_leader.json'\n",
      "Activating torque on main follower arm.\n",
      "✅ 标定完成，标定文件保存至: .cache/calibration/koch\n"
     ]
    }
   ],
   "source": [
    "# Cell 4: 实例化 KochRobotConfig 并触发标定\n",
    "from lerobot.common.robot_devices.robots.configs import KochRobotConfig\n",
    "from lerobot.common.robot_devices.robots.manipulator import ManipulatorRobot\n",
    "\n",
    "# 不考虑摄像头，清空 cameras\n",
    "robot_cfg = KochRobotConfig()\n",
    "robot_cfg.cameras = {}\n",
    "\n",
    "robot = ManipulatorRobot(robot_cfg)\n",
    "\n",
    "print(\"开始连接机器人（若无标定文件，将自动进入标定流程）...\")\n",
    "robot.connect()\n",
    "print(\"✅ 标定完成，标定文件保存至:\", robot_cfg.calibration_dir)\n",
    "\n"
   ]
  },
  {
   "cell_type": "code",
   "execution_count": 2,
   "id": "7b0c67e9-a809-4787-b9c2-0ad125ff5900",
   "metadata": {},
   "outputs": [
    {
     "name": "stdout",
     "output_type": "stream",
     "text": [
      "当前标定文件夹内容:\n",
      "总计 8\n",
      "-rw-rw-r-- 1 wjw wjw 374 Mar 19 19:19 main_follower.json\n",
      "-rw-rw-r-- 1 wjw wjw 368 Mar 19 19:21 main_leader.json\n"
     ]
    }
   ],
   "source": [
    "# Cell 5: 查看标定结果\n",
    "print(\"当前标定文件夹内容:\")\n",
    "!ls -l /home/wjw/lerobot/.cache/calibration/koch/\n"
   ]
  },
  {
   "cell_type": "code",
   "execution_count": 1,
   "id": "4fc9ef68-a8c2-48e6-9322-77927cbd89f3",
   "metadata": {},
   "outputs": [
    {
     "name": "stdout",
     "output_type": "stream",
     "text": [
      "总计 0\n",
      "-rw-rw-r-- 1 wjw wjw 0 Mar 13 19:16 test.json\n"
     ]
    }
   ],
   "source": [
    "# Cell 6: 检查标定数据文件是否生成\n",
    "!ls -l ~/.cache/calibration/koch/\n"
   ]
  },
  {
   "cell_type": "code",
   "execution_count": 59,
   "id": "d3d0ef1b-adbe-46b6-869d-82c16931818e",
   "metadata": {},
   "outputs": [
    {
     "name": "stdout",
     "output_type": "stream",
     "text": [
      "⚠️ 断开连接，等待 5 秒后重新连接...\n",
      "Connecting main follower arm.\n",
      "Connecting main leader arm.\n",
      "Activating torque on main follower arm.\n",
      "✅ 机械臂已重新连接！\n"
     ]
    }
   ],
   "source": [
    "robot.disconnect()\n",
    "print(\"⚠️ 断开连接，等待 5 秒后重新连接...\")\n",
    "import time\n",
    "time.sleep(5)\n",
    "robot.connect()\n",
    "print(\"✅ 机械臂已重新连接！\")\n"
   ]
  },
  {
   "cell_type": "code",
   "execution_count": 3,
   "id": "05e833e6-0a7e-468b-a941-5c788e268110",
   "metadata": {},
   "outputs": [
    {
     "ename": "NameError",
     "evalue": "name 'robot' is not defined",
     "output_type": "error",
     "traceback": [
      "\u001b[0;31m---------------------------------------------------------------------------\u001b[0m",
      "\u001b[0;31mNameError\u001b[0m                                 Traceback (most recent call last)",
      "Cell \u001b[0;32mIn[3], line 1\u001b[0m\n\u001b[0;32m----> 1\u001b[0m \u001b[43mrobot\u001b[49m\u001b[38;5;241m.\u001b[39mconnect()\n\u001b[1;32m      2\u001b[0m \u001b[38;5;28mprint\u001b[39m(\u001b[38;5;124m\"\u001b[39m\u001b[38;5;124m✅ 机械臂已重新连接！\u001b[39m\u001b[38;5;124m\"\u001b[39m)\n",
      "\u001b[0;31mNameError\u001b[0m: name 'robot' is not defined"
     ]
    }
   ],
   "source": [
    "robot.connect()\n",
    "print(\"✅ 机械臂已重新连接！\")\n"
   ]
  },
  {
   "cell_type": "code",
   "execution_count": 4,
   "id": "96af0dd8-e60b-4b02-b074-761acdddc82d",
   "metadata": {},
   "outputs": [
    {
     "ename": "NameError",
     "evalue": "name 'robot' is not defined",
     "output_type": "error",
     "traceback": [
      "\u001b[0;31m---------------------------------------------------------------------------\u001b[0m",
      "\u001b[0;31mNameError\u001b[0m                                 Traceback (most recent call last)",
      "Cell \u001b[0;32mIn[4], line 2\u001b[0m\n\u001b[1;32m      1\u001b[0m \u001b[38;5;66;03m# 读取主臂的状态\u001b[39;00m\n\u001b[0;32m----> 2\u001b[0m leader_status \u001b[38;5;241m=\u001b[39m \u001b[43mrobot\u001b[49m\u001b[38;5;241m.\u001b[39mleader_arms[\u001b[38;5;124m\"\u001b[39m\u001b[38;5;124mmain\u001b[39m\u001b[38;5;124m\"\u001b[39m]\u001b[38;5;241m.\u001b[39mread(\u001b[38;5;124m\"\u001b[39m\u001b[38;5;124mHardware_Error_Status\u001b[39m\u001b[38;5;124m\"\u001b[39m)\n\u001b[1;32m      3\u001b[0m leader_torque \u001b[38;5;241m=\u001b[39m robot\u001b[38;5;241m.\u001b[39mleader_arms[\u001b[38;5;124m\"\u001b[39m\u001b[38;5;124mmain\u001b[39m\u001b[38;5;124m\"\u001b[39m]\u001b[38;5;241m.\u001b[39mread(\u001b[38;5;124m\"\u001b[39m\u001b[38;5;124mTorque_Enable\u001b[39m\u001b[38;5;124m\"\u001b[39m)\n\u001b[1;32m      4\u001b[0m leader_position \u001b[38;5;241m=\u001b[39m robot\u001b[38;5;241m.\u001b[39mleader_arms[\u001b[38;5;124m\"\u001b[39m\u001b[38;5;124mmain\u001b[39m\u001b[38;5;124m\"\u001b[39m]\u001b[38;5;241m.\u001b[39mread(\u001b[38;5;124m\"\u001b[39m\u001b[38;5;124mPresent_Position\u001b[39m\u001b[38;5;124m\"\u001b[39m)\n",
      "\u001b[0;31mNameError\u001b[0m: name 'robot' is not defined"
     ]
    }
   ],
   "source": [
    "# 读取主臂的状态\n",
    "leader_status = robot.leader_arms[\"main\"].read(\"Hardware_Error_Status\")\n",
    "leader_torque = robot.leader_arms[\"main\"].read(\"Torque_Enable\")\n",
    "leader_position = robot.leader_arms[\"main\"].read(\"Present_Position\")\n",
    "\n",
    "# 读取从臂的状态\n",
    "follower_status = robot.follower_arms[\"main\"].read(\"Hardware_Error_Status\")\n",
    "follower_torque = robot.follower_arms[\"main\"].read(\"Torque_Enable\")\n",
    "follower_position = robot.follower_arms[\"main\"].read(\"Present_Position\")\n",
    "\n",
    "# 打印结果\n",
    "print(\"✅ 主臂硬件错误状态:\", leader_status)\n",
    "print(\"✅ 主臂扭矩状态:\", leader_torque)\n",
    "print(\"✅ 主臂当前关节位置:\", leader_position)\n",
    "print(\"✅ 从臂硬件错误状态:\", follower_status)\n",
    "print(\"✅ 从臂扭矩状态:\", follower_torque)\n",
    "print(\"✅ 从臂当前关节位置:\", follower_position)\n",
    "\n",
    "from lerobot.common.robot_devices.motors.dynamixel import TorqueMode\n",
    "\n",
    "# 读取主从臂的当前扭矩状态\n",
    "# leader_torque = robot.leader_arms[\"main\"].read(\"Torque_Enable\")\n",
    "# follower_torque = robot.follower_arms[\"main\"].read(\"Torque_Enable\")\n",
    "\n",
    "# print(\"🔍 主臂当前扭矩状态:\", leader_torque)\n",
    "# print(\"🔍 从臂当前扭矩状态:\", follower_torque)\n",
    "\n",
    "# # 仅在扭矩未开启时才执行启用操作\n",
    "# if not all(t == 1 for t in leader_torque):\n",
    "#     print(\"⚠️ 主臂扭矩未开启，正在启用...\")\n",
    "#     robot.leader_arms[\"main\"].write(\"Torque_Enable\", TorqueMode.ENABLED.value)\n",
    "# else:\n",
    "#     print(\"✅ 主臂扭矩已开启，无需重复操作。\")\n",
    "\n",
    "# if not all(t == 1 for t in follower_torque):\n",
    "#     print(\"⚠️ 从臂扭矩未开启，正在启用...\")\n",
    "#     robot.follower_arms[\"main\"].write(\"Torque_Enable\", TorqueMode.ENABLED.value)\n",
    "# else:\n",
    "#     print(\"✅ 从臂扭矩已开启，无需重复操作。\")\n",
    "\n",
    "# 重新检查扭矩状态，确保成功\n",
    "# leader_torque = robot.leader_arms[\"main\"].read(\"Torque_Enable\")\n",
    "# follower_torque = robot.follower_arms[\"main\"].read(\"Torque_Enable\")\n",
    "\n",
    "# assert all(t == 1 for t in leader_torque), \"❌ 主臂扭矩未正确启用！\"\n",
    "# assert all(t == 1 for t in follower_torque), \"❌ 从臂扭矩未正确启用！\"\n",
    "\n",
    "# print(\"✅ 主从臂扭矩已正确启用！\")\n"
   ]
  },
  {
   "cell_type": "code",
   "execution_count": null,
   "id": "16370a3c-6c5d-4610-b212-fe8777f0254f",
   "metadata": {},
   "outputs": [],
   "source": []
  },
  {
   "cell_type": "code",
   "execution_count": 19,
   "id": "d0713ca1-d24f-406b-9bf3-46f5aa19f08b",
   "metadata": {},
   "outputs": [
    {
     "name": "stdout",
     "output_type": "stream",
     "text": [
      "开始主从同步测试，时长 30 秒，频率 200Hz...\n"
     ]
    },
    {
     "name": "stderr",
     "output_type": "stream",
     "text": [
      "100%|███████████████████████████████████████| 6000/6000 [01:03<00:00, 94.60it/s]"
     ]
    },
    {
     "name": "stdout",
     "output_type": "stream",
     "text": [
      "✅ 主从臂同步测试完成！\n"
     ]
    },
    {
     "name": "stderr",
     "output_type": "stream",
     "text": [
      "\n"
     ]
    }
   ],
   "source": [
    "# Cell 6: 测试主从同步遥控\n",
    "import time\n",
    "import tqdm\n",
    "\n",
    "print(\"开始主从同步测试，时长 30 秒，频率 200Hz...\")\n",
    "seconds = 30\n",
    "frequency = 200\n",
    "interval = 1 / frequency\n",
    "\n",
    "for _ in tqdm.tqdm(range(seconds * frequency)):\n",
    "    leader_pos = robot.leader_arms[\"main\"].read(\"Present_Position\")\n",
    "    robot.follower_arms[\"main\"].write(\"Goal_Position\", leader_pos)\n",
    "    time.sleep(interval)\n",
    "\n",
    "print(\"✅ 主从臂同步测试完成！\")\n",
    "\n"
   ]
  },
  {
   "cell_type": "code",
   "execution_count": 20,
   "id": "02bd72f8-d1b7-43db-ab1c-4e6a5b12cf4c",
   "metadata": {},
   "outputs": [
    {
     "name": "stdout",
     "output_type": "stream",
     "text": [
      "✅  主臂和从臂扭矩已关闭！\n",
      "🔍  主臂扭矩状态: [0 0 0 0 0 0]\n",
      "🔍  从臂扭矩状态: [0 0 0 0 0 0]\n",
      "✅  主从臂扭矩已确认关闭！\n"
     ]
    }
   ],
   "source": [
    "from lerobot.common.robot_devices.motors.dynamixel import TorqueMode\n",
    "\n",
    "# 关闭主臂的所有关节扭矩\n",
    "robot.leader_arms[\"main\"].write(\"Torque_Enable\", TorqueMode.DISABLED.value)\n",
    "\n",
    "# 关闭从臂的所有关节扭矩\n",
    "robot.follower_arms[\"main\"].write(\"Torque_Enable\", TorqueMode.DISABLED.value)\n",
    "\n",
    "print(\"✅  主臂和从臂扭矩已关闭！\")\n",
    "\n",
    "leader_torque = robot.leader_arms[\"main\"].read(\"Torque_Enable\")\n",
    "follower_torque = robot.follower_arms[\"main\"].read(\"Torque_Enable\")\n",
    "\n",
    "print(\"🔍  主臂扭矩状态:\", leader_torque)\n",
    "print(\"🔍  从臂扭矩状态:\", follower_torque)\n",
    "\n",
    "assert all(t == 0 for t in leader_torque), \"❌  主臂扭矩未正确关闭！\"\n",
    "assert all(t == 0 for t in follower_torque), \"❌  从臂扭矩未正确关闭！\"\n",
    "\n",
    "print(\"✅  主从臂扭矩已确认关闭！\")\n",
    "\n"
   ]
  },
  {
   "cell_type": "code",
   "execution_count": 5,
   "id": "1afae54c-c6ce-477d-b71a-ac00aebc3185",
   "metadata": {},
   "outputs": [
    {
     "ename": "NameError",
     "evalue": "name 'robot' is not defined",
     "output_type": "error",
     "traceback": [
      "\u001b[0;31m---------------------------------------------------------------------------\u001b[0m",
      "\u001b[0;31mNameError\u001b[0m                                 Traceback (most recent call last)",
      "Cell \u001b[0;32mIn[5], line 1\u001b[0m\n\u001b[0;32m----> 1\u001b[0m \u001b[43mrobot\u001b[49m\u001b[38;5;241m.\u001b[39mdisconnect()\n\u001b[1;32m      2\u001b[0m \u001b[38;5;28mprint\u001b[39m(\u001b[38;5;124m\"\u001b[39m\u001b[38;5;124m✅  机械臂已断开连接\u001b[39m\u001b[38;5;124m\"\u001b[39m)\n",
      "\u001b[0;31mNameError\u001b[0m: name 'robot' is not defined"
     ]
    }
   ],
   "source": [
    "\n",
    "robot.disconnect()\n",
    "print(\"✅  机械臂已断开连接\")"
   ]
  },
  {
   "cell_type": "code",
   "execution_count": null,
   "id": "f58d277a-0dda-4fd8-a313-dbc7cf420bae",
   "metadata": {},
   "outputs": [],
   "source": [
    "\n"
   ]
  },
  {
   "cell_type": "code",
   "execution_count": 4,
   "id": "a7c4b402-590c-4f59-a93f-dba9386e5165",
   "metadata": {},
   "outputs": [],
   "source": [
    "#robot.leader_arms[\"main\"].write(\"Hardware_Error_Status\", 0)\n",
    "#robot.follower_arms[\"main\"].write(\"Hardware_Error_Status\", 0)\n",
    "#print(\"✅ 硬件错误状态已重置！\")\n"
   ]
  },
  {
   "cell_type": "code",
   "execution_count": 5,
   "id": "1e8e6a85-485b-4fe5-beb4-6ef17cd54a70",
   "metadata": {},
   "outputs": [
    {
     "name": "stdout",
     "output_type": "stream",
     "text": [
      "\u001b[0m\u001b[01;33m/dev/video0\u001b[0m  \u001b[01;33m/dev/video1\u001b[0m  \u001b[01;33m/dev/video2\u001b[0m  \u001b[01;33m/dev/video3\u001b[0m  \u001b[01;33m/dev/video4\u001b[0m  \u001b[01;33m/dev/video5\u001b[0m\n"
     ]
    }
   ],
   "source": [
    "ls /dev/video*\n"
   ]
  },
  {
   "cell_type": "code",
   "execution_count": 5,
   "id": "af448b04-ac90-4856-aea6-ff320adb72aa",
   "metadata": {},
   "outputs": [
    {
     "name": "stdout",
     "output_type": "stream",
     "text": [
      "USB 2.0 Camera: USB Camera (usb-0000:00:14.0-1.4):\n",
      "\t/dev/video2\n",
      "\t/dev/video3\n",
      "\t/dev/media1\n",
      "\n",
      "USB2.0 HD UVC WebCam: USB2.0 HD (usb-0000:00:14.0-7):\n",
      "\t/dev/video0\n",
      "\t/dev/video1\n",
      "\t/dev/media0\n",
      "\n"
     ]
    }
   ],
   "source": [
    "!v4l2-ctl --list-devices\n"
   ]
  },
  {
   "cell_type": "code",
   "execution_count": 10,
   "id": "6772b714-331b-45b9-b2cf-f7f481b40f18",
   "metadata": {},
   "outputs": [
    {
     "name": "stdout",
     "output_type": "stream",
     "text": [
      "ffplay version 4.4.2-0ubuntu0.22.04.1 Copyright (c) 2003-2021 the FFmpeg developers\n",
      "  built with gcc 11 (Ubuntu 11.2.0-19ubuntu1)\n",
      "  configuration: --prefix=/usr --extra-version=0ubuntu0.22.04.1 --toolchain=hardened --libdir=/usr/lib/x86_64-linux-gnu --incdir=/usr/include/x86_64-linux-gnu --arch=amd64 --enable-gpl --disable-stripping --enable-gnutls --enable-ladspa --enable-libaom --enable-libass --enable-libbluray --enable-libbs2b --enable-libcaca --enable-libcdio --enable-libcodec2 --enable-libdav1d --enable-libflite --enable-libfontconfig --enable-libfreetype --enable-libfribidi --enable-libgme --enable-libgsm --enable-libjack --enable-libmp3lame --enable-libmysofa --enable-libopenjpeg --enable-libopenmpt --enable-libopus --enable-libpulse --enable-librabbitmq --enable-librubberband --enable-libshine --enable-libsnappy --enable-libsoxr --enable-libspeex --enable-libsrt --enable-libssh --enable-libtheora --enable-libtwolame --enable-libvidstab --enable-libvorbis --enable-libvpx --enable-libwebp --enable-libx265 --enable-libxml2 --enable-libxvid --enable-libzimg --enable-libzmq --enable-libzvbi --enable-lv2 --enable-omx --enable-openal --enable-opencl --enable-opengl --enable-sdl2 --enable-pocketsphinx --enable-librsvg --enable-libmfx --enable-libdc1394 --enable-libdrm --enable-libiec61883 --enable-chromaprint --enable-frei0r --enable-libx264 --enable-shared\n",
      "  libavutil      56. 70.100 / 56. 70.100\n",
      "  libavcodec     58.134.100 / 58.134.100\n",
      "  libavformat    58. 76.100 / 58. 76.100\n",
      "  libavdevice    58. 13.100 / 58. 13.100\n",
      "  libavfilter     7.110.100 /  7.110.100\n",
      "  libswscale      5.  9.100 /  5.  9.100\n",
      "  libswresample   3.  9.100 /  3.  9.100\n",
      "  libpostproc    55.  9.100 / 55.  9.100\n",
      "\u001b[1;31m/dev/video2: Device or resource busy\n",
      "\u001b[0m    nan    :  0.000 fd=   0 aq=    0KB vq=    0KB sq=    0B f=0/0   \n"
     ]
    }
   ],
   "source": [
    "!ffplay /dev/video2\n",
    "\n",
    "\n"
   ]
  },
  {
   "cell_type": "code",
   "execution_count": 11,
   "id": "003630fe-f5dd-4665-8fb0-1b3da8d6f788",
   "metadata": {},
   "outputs": [
    {
     "name": "stdout",
     "output_type": "stream",
     "text": [
      "❌ 无法打开摄像头 /dev/video2\n",
      "❌ 无法读取摄像头画面\n"
     ]
    },
    {
     "name": "stderr",
     "output_type": "stream",
     "text": [
      "[ WARN:0@516.475] global cap_v4l.cpp:999 open VIDEOIO(V4L2:/dev/video2): can't open camera by index\n",
      "[ERROR:0@516.573] global obsensor_uvc_stream_channel.cpp:158 getStreamChannelGroup Camera index out of range\n"
     ]
    }
   ],
   "source": [
    "import cv2\n",
    "import matplotlib.pyplot as plt\n",
    "\n",
    "camera_index = 2\n",
    "cap = cv2.VideoCapture(camera_index)\n",
    "\n",
    "if not cap.isOpened():\n",
    "    print(f\"❌ 无法打开摄像头 /dev/video{camera_index}\")\n",
    "else:\n",
    "    print(f\"✅ 成功打开摄像头 /dev/video{camera_index}\")\n",
    "\n",
    "# 读取一帧\n",
    "ret, frame = cap.read()\n",
    "cap.release()\n",
    "\n",
    "if ret:\n",
    "    frame = cv2.cvtColor(frame, cv2.COLOR_BGR2RGB)  # OpenCV 读取的颜色是 BGR，需要转换为 RGB\n",
    "    plt.imshow(frame)\n",
    "    plt.axis(\"off\")  # 不显示坐标轴\n",
    "    plt.title(\"Camera Test\")\n",
    "    plt.show()\n",
    "else:\n",
    "    print(\"❌ 无法读取摄像头画面\")\n",
    "\n",
    "\n",
    "\n"
   ]
  },
  {
   "cell_type": "code",
   "execution_count": 6,
   "id": "a52bd590-6230-4447-9e9b-c7810a6e7f34",
   "metadata": {},
   "outputs": [
    {
     "name": "stdout",
     "output_type": "stream",
     "text": [
      "Connecting main follower arm.\n",
      "Connecting main leader arm.\n",
      "Missing calibration file '.cache/calibration/koch/main_follower.json'\n",
      "\n",
      "Running calibration of koch main follower...\n",
      "\n",
      "Move arm to zero position\n",
      "See: https://raw.githubusercontent.com/huggingface/lerobot/main/media/koch/follower_zero.webp\n"
     ]
    },
    {
     "name": "stdin",
     "output_type": "stream",
     "text": [
      "Press Enter to continue... \n"
     ]
    },
    {
     "name": "stdout",
     "output_type": "stream",
     "text": [
      "\n",
      "Move arm to rotated target position\n",
      "See: https://raw.githubusercontent.com/huggingface/lerobot/main/media/koch/follower_rotated.webp\n"
     ]
    },
    {
     "name": "stdin",
     "output_type": "stream",
     "text": [
      "Press Enter to continue... \n"
     ]
    },
    {
     "name": "stdout",
     "output_type": "stream",
     "text": [
      "\n",
      "Move arm to rest position\n",
      "See: https://raw.githubusercontent.com/huggingface/lerobot/main/media/koch/follower_rest.webp\n"
     ]
    },
    {
     "name": "stdin",
     "output_type": "stream",
     "text": [
      "Press Enter to continue... \n"
     ]
    },
    {
     "name": "stdout",
     "output_type": "stream",
     "text": [
      "\n",
      "Calibration is done! Saving calibration file '.cache/calibration/koch/main_follower.json'\n",
      "Missing calibration file '.cache/calibration/koch/main_leader.json'\n",
      "\n",
      "Running calibration of koch main leader...\n",
      "\n",
      "Move arm to zero position\n",
      "See: https://raw.githubusercontent.com/huggingface/lerobot/main/media/koch/leader_zero.webp\n"
     ]
    },
    {
     "name": "stdin",
     "output_type": "stream",
     "text": [
      "Press Enter to continue... \n"
     ]
    },
    {
     "name": "stdout",
     "output_type": "stream",
     "text": [
      "\n",
      "Move arm to rotated target position\n",
      "See: https://raw.githubusercontent.com/huggingface/lerobot/main/media/koch/leader_rotated.webp\n"
     ]
    },
    {
     "name": "stdin",
     "output_type": "stream",
     "text": [
      "Press Enter to continue... \n"
     ]
    },
    {
     "name": "stdout",
     "output_type": "stream",
     "text": [
      "\n",
      "Move arm to rest position\n",
      "See: https://raw.githubusercontent.com/huggingface/lerobot/main/media/koch/leader_rest.webp\n"
     ]
    },
    {
     "name": "stdin",
     "output_type": "stream",
     "text": [
      "Press Enter to continue... \n"
     ]
    },
    {
     "name": "stdout",
     "output_type": "stream",
     "text": [
      "\n",
      "Calibration is done! Saving calibration file '.cache/calibration/koch/main_leader.json'\n",
      "Activating torque on main follower arm.\n",
      "✅ 机器人连接成功，并已启用摄像头！\n"
     ]
    }
   ],
   "source": [
    "from lerobot.common.robot_devices.robots.configs import KochRobotConfig\n",
    "from lerobot.common.robot_devices.robots.manipulator import ManipulatorRobot\n",
    "from lerobot.common.robot_devices.cameras.configs import OpenCVCameraConfig\n",
    "\n",
    "# ✅ 创建 Koch 机器人配置\n",
    "robot_cfg = KochRobotConfig()\n",
    "\n",
    "# ✅ 添加摄像头配置，假设摄像头设备是 /dev/video2\n",
    "robot_cfg.cameras = {\n",
    "    \"wrist_camera\": OpenCVCameraConfig(\n",
    "        camera_index=2,  # 设备端口\n",
    "        fps=30,          # 帧率\n",
    "        width=640,       # 画面宽度\n",
    "        height=480       # 画面高度\n",
    "    )\n",
    "}\n",
    "\n",
    "# ✅ 实例化机器人对象，并连接\n",
    "robot = ManipulatorRobot(robot_cfg)\n",
    "robot.connect()\n",
    "\n",
    "print(\"✅ 机器人连接成功，并已启用摄像头！\")\n"
   ]
  },
  {
   "cell_type": "code",
   "execution_count": 13,
   "id": "00523969-860e-4d85-a32f-b20703c1b460",
   "metadata": {},
   "outputs": [
    {
     "name": "stdout",
     "output_type": "stream",
     "text": [
      "✅ 当前摄像头配置： {'wrist_camera': OpenCVCameraConfig(camera_index=2, fps=30, width=640, height=480, color_mode='rgb', channels=3, rotation=None, mock=False)}\n"
     ]
    }
   ],
   "source": [
    "print(\"✅ 当前摄像头配置：\", robot_cfg.cameras)\n"
   ]
  },
  {
   "cell_type": "code",
   "execution_count": 2,
   "id": "7868f2d9-ed0b-4076-a96f-ab417b968c5e",
   "metadata": {},
   "outputs": [
    {
     "ename": "NameError",
     "evalue": "name 'robot' is not defined",
     "output_type": "error",
     "traceback": [
      "\u001b[0;31m---------------------------------------------------------------------------\u001b[0m",
      "\u001b[0;31mNameError\u001b[0m                                 Traceback (most recent call last)",
      "Cell \u001b[0;32mIn[2], line 9\u001b[0m\n\u001b[1;32m      3\u001b[0m \u001b[38;5;28;01mimport\u001b[39;00m\u001b[38;5;250m \u001b[39m\u001b[38;5;21;01mmatplotlib\u001b[39;00m\n\u001b[1;32m      5\u001b[0m \u001b[38;5;66;03m# # 设置字体（使用 SimHei 或其它支持中文的字体）\u001b[39;00m\n\u001b[1;32m      6\u001b[0m \u001b[38;5;66;03m# matplotlib.rcParams['font.sans-serif'] = ['SimHei']  # 黑体\u001b[39;00m\n\u001b[1;32m      7\u001b[0m \u001b[38;5;66;03m# matplotlib.rcParams['axes.unicode_minus'] = False  # 解决负号显示问题\u001b[39;00m\n\u001b[1;32m      8\u001b[0m \u001b[38;5;66;03m# 获取摄像头对象\u001b[39;00m\n\u001b[0;32m----> 9\u001b[0m camera \u001b[38;5;241m=\u001b[39m \u001b[43mrobot\u001b[49m\u001b[38;5;241m.\u001b[39mcameras[\u001b[38;5;124m\"\u001b[39m\u001b[38;5;124mwrist_camera\u001b[39m\u001b[38;5;124m\"\u001b[39m]\n\u001b[1;32m     11\u001b[0m \u001b[38;5;66;03m# 读取一帧图像\u001b[39;00m\n\u001b[1;32m     12\u001b[0m frame \u001b[38;5;241m=\u001b[39m camera\u001b[38;5;241m.\u001b[39mread()\n",
      "\u001b[0;31mNameError\u001b[0m: name 'robot' is not defined"
     ]
    }
   ],
   "source": [
    "import cv2\n",
    "import matplotlib.pyplot as plt\n",
    "import matplotlib\n",
    "\n",
    "# # 设置字体（使用 SimHei 或其它支持中文的字体）\n",
    "# matplotlib.rcParams['font.sans-serif'] = ['SimHei']  # 黑体\n",
    "# matplotlib.rcParams['axes.unicode_minus'] = False  # 解决负号显示问题\n",
    "# 获取摄像头对象\n",
    "camera = robot.cameras[\"wrist_camera\"]\n",
    "\n",
    "# 读取一帧图像\n",
    "frame = camera.read()\n",
    "\n",
    "if frame is not None:\n",
    "    frame = cv2.cvtColor(frame, cv2.COLOR_BGR2RGB)  # 转换颜色格式\n",
    "    plt.imshow(frame)\n",
    "    plt.axis(\"off\")  # 隐藏坐标轴\n",
    "    plt.title(\"image\")\n",
    "    plt.show()\n",
    "else:\n",
    "    print(\"❌ 无法读取摄像头画面\")\n",
    "\n"
   ]
  },
  {
   "cell_type": "code",
   "execution_count": 18,
   "id": "e98eea3c-eebd-4d50-938d-1730f0297285",
   "metadata": {},
   "outputs": [],
   "source": [
    "import cv2\n",
    "\n",
    "camera = robot.cameras[\"wrist_camera\"]\n",
    "\n",
    "while True:\n",
    "    frame = camera.read()\n",
    "    if frame is not None:\n",
    "        cv2.imshow(\"📷 机械臂摄像头画面\", frame)\n",
    "    if cv2.waitKey(1) & 0xFF == ord('q'):  # 按 'q' 退出\n",
    "        break\n",
    "\n",
    "cv2.destroyAllWindows()\n",
    "#按q退出\n"
   ]
  },
  {
   "cell_type": "code",
   "execution_count": 25,
   "id": "fac87dbe-f20f-471b-8dfc-59d2498c5dd0",
   "metadata": {},
   "outputs": [
    {
     "name": "stdout",
     "output_type": "stream",
     "text": [
      "✅ 数据将保存到：/home/wjw/lerobot/data_collection\n"
     ]
    }
   ],
   "source": [
    "import os\n",
    "\n",
    "# 设定数据存储路径\n",
    "data_dir = \"/home/wjw/lerobot/data_collection\"\n",
    "os.makedirs(data_dir, exist_ok=True)\n",
    "\n",
    "print(f\"✅ 数据将保存到：{data_dir}\")\n"
   ]
  },
  {
   "cell_type": "code",
   "execution_count": 26,
   "id": "decb5a8e-f25e-4e5c-9151-aa6efcd1b6ff",
   "metadata": {},
   "outputs": [
    {
     "name": "stdout",
     "output_type": "stream",
     "text": [
      "🎥 摄像头已准备好，开始录制数据...\n"
     ]
    },
    {
     "name": "stderr",
     "output_type": "stream",
     "text": [
      "[ WARN:0@1259.029] global cap_v4l.cpp:999 open VIDEOIO(V4L2:/dev/video2): can't open camera by index\n",
      "[ERROR:0@1259.127] global obsensor_uvc_stream_channel.cpp:158 getStreamChannelGroup Camera index out of range\n"
     ]
    }
   ],
   "source": [
    "import cv2\n",
    "import numpy as np\n",
    "import pandas as pd\n",
    "from datetime import datetime\n",
    "\n",
    "# 创建数据存储结构\n",
    "data_log = []\n",
    "\n",
    "# 读取摄像头\n",
    "camera = robot.cameras[\"wrist_camera\"]\n",
    "cap = cv2.VideoCapture(camera.camera_index)\n",
    "\n",
    "# 设置视频参数\n",
    "cap.set(cv2.CAP_PROP_FRAME_WIDTH, 640)\n",
    "cap.set(cv2.CAP_PROP_FRAME_HEIGHT, 480)\n",
    "cap.set(cv2.CAP_PROP_FPS, 30)\n",
    "\n",
    "print(\"🎥 摄像头已准备好，开始录制数据...\")\n",
    "\n"
   ]
  },
  {
   "cell_type": "code",
   "execution_count": null,
   "id": "9b533041-80e0-4008-afef-0ca4cffad8e9",
   "metadata": {},
   "outputs": [],
   "source": [
    "import time\n",
    "from tqdm import tqdm\n",
    "\n",
    "# 设定录制时长（秒） & 频率\n",
    "record_seconds = 10\n",
    "frequency = 30  # 30Hz 录制\n",
    "interval = 1 / frequency\n",
    "\n",
    "print(f\"🚀 录制开始：{record_seconds}s, 频率 {frequency}Hz...\")\n",
    "\n",
    "for _ in tqdm(range(record_seconds * frequency)):\n",
    "    # 读取主臂当前关节角度\n",
    "    leader_position = robot.leader_arms[\"main\"].read(\"Present_Position\")\n",
    "    \n",
    "    # 读取从臂目标关节角度\n",
    "    follower_position = robot.follower_arms[\"main\"].read(\"Goal_Position\")\n",
    "    \n",
    "    # 读取时间戳\n",
    "    timestamp = datetime.now().strftime(\"%Y-%m-%d %H:%M:%S.%f\")\n",
    "\n",
    "    # 读取摄像头图像\n",
    "    ret, frame = cap.read()\n",
    "    if ret:\n",
    "        # 保存图像文件\n",
    "        image_path = os.path.join(data_dir, f\"{timestamp}.jpg\")\n",
    "        cv2.imwrite(image_path, frame)\n",
    "    else:\n",
    "        image_path = \"ERROR\"\n",
    "\n",
    "    # 记录数据\n",
    "    data_log.append([timestamp, leader_position, follower_position, image_path])\n",
    "\n",
    "    time.sleep(interval)\n",
    "\n",
    "print(\"✅ 录制完成！\")\n",
    "cap.release()\n"
   ]
  },
  {
   "cell_type": "code",
   "execution_count": null,
   "id": "993d3484-2952-490c-b7f4-ad3e36f1b96f",
   "metadata": {},
   "outputs": [],
   "source": [
    "# 转换为 DataFrame\n",
    "df = pd.DataFrame(data_log, columns=[\"timestamp\", \"leader_position\", \"follower_position\", \"image_path\"])\n",
    "\n",
    "# 保存 CSV 文件\n",
    "csv_path = os.path.join(data_dir, \"robot_data.csv\")\n",
    "df.to_csv(csv_path, index=False)\n",
    "\n",
    "print(f\"✅ 数据已保存至：{csv_path}\")\n"
   ]
  },
  {
   "cell_type": "code",
   "execution_count": null,
   "id": "8c59e2eb-9c54-48a4-937c-dccc35ec0fa0",
   "metadata": {},
   "outputs": [],
   "source": [
    "df = pd.read_csv(csv_path)\n",
    "print(df.head())  # 查看前 5 行数据\n"
   ]
  },
  {
   "cell_type": "code",
   "execution_count": null,
   "id": "16313892-f105-453c-8674-d9751457866c",
   "metadata": {},
   "outputs": [],
   "source": [
    "import matplotlib.pyplot as plt\n",
    "\n",
    "img_path = df.iloc[0][\"image_path\"]\n",
    "img = cv2.imread(img_path)\n",
    "img = cv2.cvtColor(img, cv2.COLOR_BGR2RGB)  # 转换颜色格式\n",
    "\n",
    "plt.imshow(img)\n",
    "plt.axis(\"off\")\n",
    "plt.title(\"Sample Image from Dataset\")\n",
    "plt.show()\n"
   ]
  },
  {
   "cell_type": "code",
   "execution_count": null,
   "id": "bbb3ffff-405f-453c-90e6-b39761d9af43",
   "metadata": {},
   "outputs": [],
   "source": []
  }
 ],
 "metadata": {
  "kernelspec": {
   "display_name": "Python (lerobot)",
   "language": "python",
   "name": "lerobot"
  },
  "language_info": {
   "codemirror_mode": {
    "name": "ipython",
    "version": 3
   },
   "file_extension": ".py",
   "mimetype": "text/x-python",
   "name": "python",
   "nbconvert_exporter": "python",
   "pygments_lexer": "ipython3",
   "version": "3.10.16"
  }
 },
 "nbformat": 4,
 "nbformat_minor": 5
}
