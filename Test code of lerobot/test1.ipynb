{
 "cells": [
  {
   "cell_type": "code",
   "execution_count": 1,
   "id": "bba685b3-643c-480e-8c54-2b1108c79060",
   "metadata": {},
   "outputs": [
    {
     "name": "stdout",
     "output_type": "stream",
     "text": [
      "当前路径： /home/wjw/lerobot\n",
      "Connecting main follower arm.\n",
      "Connecting main leader arm.\n",
      "Activating torque on main follower arm.\n",
      "✅ 机器人连接成功！\n"
     ]
    }
   ],
   "source": [
    "import sys\n",
    "import os\n",
    "\n",
    "# 设置项目路径\n",
    "project_root = \"/home/wjw/lerobot\"\n",
    "sys.path.insert(0, project_root)\n",
    "\n",
    "# 设置当前工作目录\n",
    "os.chdir(project_root)\n",
    "print(\"当前路径：\", os.getcwd())\n",
    "\n",
    "# 正确导入配置\n",
    "from lerobot.common.robot_devices.robots.configs import KochRobotConfig\n",
    "from lerobot.common.robot_devices.robots.manipulator import ManipulatorRobot\n",
    "\n",
    "# ✅ 直接实例化 `KochRobotConfig`\n",
    "robot_cfg = KochRobotConfig()\n",
    "\n",
    "robot_cfg.cameras = {}  # 清空摄像头配置\n",
    "robot = ManipulatorRobot(robot_cfg)\n",
    "\n",
    "# 连接机器人\n",
    "robot.connect()\n",
    "print(\"✅ 机器人连接成功！\")\n",
    "\n"
   ]
  },
  {
   "cell_type": "code",
   "execution_count": 6,
   "id": "0d6c727a-c1ba-4337-b00a-e72fcb93c225",
   "metadata": {},
   "outputs": [
    {
     "name": "stdout",
     "output_type": "stream",
     "text": [
      "✅ 主/从动臂扭矩已启用！\n"
     ]
    }
   ],
   "source": [
    "\n",
    "\n",
    "from lerobot.common.robot_devices.motors.dynamixel import TorqueMode\n",
    "\n",
    "# 启用主臂和从臂的扭矩\n",
    "robot.leader_arms[\"main\"].write(\"Torque_Enable\", TorqueMode.ENABLED.value)\n",
    "robot.follower_arms[\"main\"].write(\"Torque_Enable\", TorqueMode.ENABLED.value)\n",
    "\n",
    "print(\"✅ 主/从动臂扭矩已启用！\")\n",
    "\n"
   ]
  },
  {
   "cell_type": "code",
   "execution_count": 9,
   "id": "39e99812-9da3-4e43-b308-09696beb7ecf",
   "metadata": {},
   "outputs": [
    {
     "name": "stderr",
     "output_type": "stream",
     "text": [
      "100%|███████████████████████████████████████| 6000/6000 [01:02<00:00, 96.35it/s]"
     ]
    },
    {
     "name": "stdout",
     "output_type": "stream",
     "text": [
      "✅ 主从臂同步运动完成！\n"
     ]
    },
    {
     "name": "stderr",
     "output_type": "stream",
     "text": [
      "\n"
     ]
    }
   ],
   "source": [
    "import time\n",
    "import tqdm\n",
    "\n",
    "seconds = 30  # 控制时间 30 秒\n",
    "frequency = 200  # 运行频率 200Hz\n",
    "interval = 1 / frequency\n",
    "\n",
    "for _ in tqdm.tqdm(range(seconds * frequency)):\n",
    "    # 读取主臂位置\n",
    "    leader_pos = robot.leader_arms[\"main\"].read(\"Present_Position\")\n",
    "\n",
    "    # 设定从臂目标位置（让从臂跟随主臂）\n",
    "    robot.follower_arms[\"main\"].write(\"Goal_Position\", leader_pos)\n",
    "\n",
    "    # 控制循环频率，防止过载\n",
    "    time.sleep(interval)\n",
    "\n",
    "print(\"✅ 主从臂同步运动完成！\")\n",
    "\n"
   ]
  },
  {
   "cell_type": "code",
   "execution_count": 10,
   "id": "dd2e4e81-7571-423f-b397-51f83413cd6b",
   "metadata": {},
   "outputs": [],
   "source": [
    "#from lerobot.scripts.control_robot import teleoperate\n",
    "\n",
    "#teleoperate(robot, cfg)  # 运行遥操作模式\n"
   ]
  },
  {
   "cell_type": "code",
   "execution_count": null,
   "id": "f7d70737-7da0-4977-97e1-35f0d21fc169",
   "metadata": {},
   "outputs": [],
   "source": [
    "# 关闭所有电机力矩\n",
    "#for arm_name in robot.leader_arms:\n",
    "    #for motor in robot.leader_arms[arm_name].motors:\n",
    "        #robot.leader_arms[arm_name].write_torque(motor, False)\n",
    "\n",
    "#for arm_name in robot.follower_arms:\n",
    "    #for motor in robot.follower_arms[arm_name].motors:\n",
    "       # robot.follower_arms[arm_name].write_torque(motor, False)\n",
    "\n",
    "#print(\"✅ 已关闭所有电机力矩，机械臂可自由移动\")\n",
    "\n",
    "\n",
    "# 连接机器人\n",
    "#robot.disconnect()\n",
    "#print(\"✅ 机器人退出连接！\")"
   ]
  },
  {
   "cell_type": "code",
   "execution_count": 3,
   "id": "6b37adc4-27e2-4ae7-b847-1f25b9809b1c",
   "metadata": {},
   "outputs": [
    {
     "name": "stdout",
     "output_type": "stream",
     "text": [
      "Leader Arm Mock Status: False\n"
     ]
    }
   ],
   "source": [
    "print(\"Leader Arm Mock Status:\", robot_cfg.leader_arms[\"main\"].mock)\n"
   ]
  },
  {
   "cell_type": "code",
   "execution_count": 4,
   "id": "513ce622-d706-4697-b396-2373f13cdcb2",
   "metadata": {},
   "outputs": [],
   "source": [
    "from lerobot.common.robot_devices.motors.dynamixel import TorqueMode\n",
    "\n",
    "leader_arm = robot.leader_arms[\"main\"]\n",
    "leader_arm.write(\"Torque_Enable\", TorqueMode.ENABLED.value)\n"
   ]
  },
  {
   "cell_type": "code",
   "execution_count": 5,
   "id": "cdc3f9dd-90df-4867-9a10-895fffac9d49",
   "metadata": {},
   "outputs": [
    {
     "name": "stdout",
     "output_type": "stream",
     "text": [
      "硬件错误状态: [ 0 32  1 33  1  1]\n"
     ]
    }
   ],
   "source": [
    "status = leader_arm.read(\"Hardware_Error_Status\")\n",
    "print(\"硬件错误状态:\", status)\n"
   ]
  },
  {
   "cell_type": "code",
   "execution_count": 6,
   "id": "4523dd8a-c4c1-4c6a-ae25-66aaa8e12d5c",
   "metadata": {},
   "outputs": [],
   "source": [
    "#robot.follower_arms[\"main\"].write(\"Torque_Enable\", 0)\n",
    "#robot.leader_arms[\"main\"].write(\"Torque_Enable\", 0)\n",
    "#print(\"✅ 已关闭所有电机扭矩！\""
   ]
  },
  {
   "cell_type": "code",
   "execution_count": 7,
   "id": "305812b9-8680-4f68-a7d9-2941bb94ed68",
   "metadata": {},
   "outputs": [],
   "source": [
    "leader_arm.write(\"Torque_Enable\", TorqueMode.DISABLED.value)\n",
    "import time\n",
    "time.sleep(10)\n",
    "leader_arm.write(\"Torque_Enable\", TorqueMode.ENABLED.value)\n"
   ]
  },
  {
   "cell_type": "code",
   "execution_count": 2,
   "id": "683a4036-0b53-4c63-9262-511c81b7de10",
   "metadata": {},
   "outputs": [
    {
     "name": "stdout",
     "output_type": "stream",
     "text": [
      "✅ 机器人断开连接成功！\n"
     ]
    }
   ],
   "source": [
    "robot.disconnect()\n",
    "print(\"✅ 机器人断开连接成功！\")\n",
    "\n"
   ]
  },
  {
   "cell_type": "code",
   "execution_count": null,
   "id": "f396c2d7-3f94-4e20-bb69-e1bc04fdeff3",
   "metadata": {},
   "outputs": [],
   "source": []
  }
 ],
 "metadata": {
  "kernelspec": {
   "display_name": "Python (lerobot)",
   "language": "python",
   "name": "lerobot"
  },
  "language_info": {
   "codemirror_mode": {
    "name": "ipython",
    "version": 3
   },
   "file_extension": ".py",
   "mimetype": "text/x-python",
   "name": "python",
   "nbconvert_exporter": "python",
   "pygments_lexer": "ipython3",
   "version": "3.10.16"
  }
 },
 "nbformat": 4,
 "nbformat_minor": 5
}
